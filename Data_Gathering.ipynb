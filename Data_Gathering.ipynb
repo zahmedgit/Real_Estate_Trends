{
 "cells": [
  {
   "cell_type": "code",
   "execution_count": 18,
   "metadata": {
    "scrolled": true
   },
   "outputs": [],
   "source": [
    "from keys import aid\n",
    "import csv\n",
    "import requests\n",
    "import pandas as pd\n",
    "import numpy as np"
   ]
  },
  {
   "cell_type": "code",
   "execution_count": 33,
   "metadata": {},
   "outputs": [],
   "source": [
    "ad=''\n",
    "cit_state= 'Jersey City'\n",
    "test_params={\n",
    "    #'geoid':ad.replace(' ','+'),\n",
    "    'cityname':'jersey city'\n",
    "}"
   ]
  },
  {
   "cell_type": "code",
   "execution_count": 34,
   "metadata": {},
   "outputs": [
    {
     "data": {
      "text/plain": [
       "200"
      ]
     },
     "execution_count": 34,
     "metadata": {},
     "output_type": "execute_result"
    }
   ],
   "source": [
    "url='https://api.gateway.attomdata.com/propertyapi/v1.0.0/property/id'\n",
    "headers = {\n",
    "    'accept': \"application/json\",\n",
    "    'apikey': aid\n",
    "}\n",
    "response=requests.get(url,headers=headers,params=test_params)\n",
    "response.status_code"
   ]
  },
  {
   "cell_type": "code",
   "execution_count": 35,
   "metadata": {},
   "outputs": [
    {
     "data": {
      "text/plain": [
       "'{\"status\":{\"version\":\"1.0.0\",\"code\":0,\"msg\":\"SuccessWithResult\",\"total\":10000,\"page\":1,\"pagesize\":10},\"property\":[{\"identifier\":{\"obPropId\":19451326334017,\"fips\":\"34017\",\"apn\":\"0630501000000005\",\"attomId\":194513263},\"vintage\":{\"lastModified\":\"2019-6-10\",\"pubDate\":\"2019-6-22\"}},{\"identifier\":{\"obPropId\":32186858734017,\"fips\":\"34017\",\"apn\":\"0630501000000002\",\"attomId\":321868587},\"vintage\":{\"lastModified\":\"2019-9-10\",\"pubDate\":\"2019-9-29\"}},{\"identifier\":{\"obPropId\":18885670134017,\"fips\":\"34017\",\"apn\":\"0100397000000002\",\"attomId\":188856701},\"vintage\":{\"lastModified\":\"2020-6-10\",\"pubDate\":\"2020-6-13\"}},{\"identifier\":{\"obPropId\":4542795134017,\"fips\":\"34017\",\"apn\":\"0630402000000001\",\"attomId\":45427951},\"vintage\":{\"lastModified\":\"2019-6-10\",\"pubDate\":\"2019-6-22\"}},{\"identifier\":{\"obPropId\":4540436034017,\"fips\":\"34017\",\"apn\":\"0630404000000003\",\"attomId\":45404360},\"vintage\":{\"lastModified\":\"2019-6-10\",\"pubDate\":\"2019-6-22\"}},{\"identifier\":{\"obPropId\":4526156634017,\"fips\":\"34017\",\"apn\":\"0630401000000003  01\",\"attomId\":45261566},\"vintage\":{\"lastModified\":\"2019-6-10\",\"pubDate\":\"2019-6-22\"}},{\"identifier\":{\"obPropId\":15849695534017,\"fips\":\"34017\",\"apn\":\"0630501000000011\",\"attomId\":158496955},\"vintage\":{\"lastModified\":\"2019-6-10\",\"pubDate\":\"2019-6-22\"}},{\"identifier\":{\"obPropId\":3258077534017,\"fips\":\"34017\",\"apn\":\"0630307000000012\",\"attomId\":32580775},\"vintage\":{\"lastModified\":\"2019-6-10\",\"pubDate\":\"2019-6-22\"}},{\"identifier\":{\"obPropId\":15005101834017,\"fips\":\"34017\",\"apn\":\"0630307000000010\",\"attomId\":150051018},\"vintage\":{\"lastModified\":\"2019-6-10\",\"pubDate\":\"2019-6-22\"}},{\"identifier\":{\"obPropId\":4541964734017,\"fips\":\"34017\",\"apn\":\"0630401000000004\",\"attomId\":45419647},\"vintage\":{\"lastModified\":\"2019-6-10\",\"pubDate\":\"2019-6-22\"}}]}'"
      ]
     },
     "execution_count": 35,
     "metadata": {},
     "output_type": "execute_result"
    }
   ],
   "source": [
    "response.text"
   ]
  },
  {
   "cell_type": "code",
   "execution_count": 49,
   "metadata": {},
   "outputs": [],
   "source": [
    "def get_address_list(params):\n",
    "    url='https://api.gateway.attomdata.com/propertyapi/v1.0.0/property/id'\n",
    "    headers = {\n",
    "        'accept': \"application/json\",\n",
    "        'apikey': aid\n",
    "    }\n",
    "    response=requests.get(url,headers=headers,params=params)\n",
    "    return response.json()\n",
    "\n",
    "test_result=get_address_list(test_params)\n"
   ]
  },
  {
   "cell_type": "code",
   "execution_count": 51,
   "metadata": {},
   "outputs": [
    {
     "data": {
      "text/plain": [
       "[317007966,\n",
       " 194513263,\n",
       " 321868587,\n",
       " 188856701,\n",
       " 45427951,\n",
       " 45404360,\n",
       " 45261566,\n",
       " 158496955,\n",
       " 150051018,\n",
       " 45419647]"
      ]
     },
     "execution_count": 51,
     "metadata": {},
     "output_type": "execute_result"
    }
   ],
   "source": [
    "test_parse=[]\n",
    "for prop in test_result['property']:\n",
    "    test_parse.append(prop['identifier']['attomId'])\n",
    "test_parse"
   ]
  },
  {
   "cell_type": "code",
   "execution_count": 53,
   "metadata": {},
   "outputs": [],
   "source": [
    "def parse_data(data_results):\n",
    "    parsed_data=[]\n",
    "    for prop in data_results['property']:\n",
    "        parsed_data.append(prop['identifier']['attomId'])\n",
    "    return parsed_data\n",
    "test_parsed=parse_data(test_result)"
   ]
  },
  {
   "cell_type": "code",
   "execution_count": null,
   "metadata": {},
   "outputs": [],
   "source": [
    "def save_data(file_name,data):\n",
    "    with open(file_name, \"a\", newline=\"\", encoding='utf-8') as a:\n",
    "        writer = csv.writer(a)\n",
    "        writer.writerows(data)"
   ]
  }
 ],
 "metadata": {
  "kernelspec": {
   "display_name": "Python 3",
   "language": "python",
   "name": "python3"
  },
  "language_info": {
   "codemirror_mode": {
    "name": "ipython",
    "version": 3
   },
   "file_extension": ".py",
   "mimetype": "text/x-python",
   "name": "python",
   "nbconvert_exporter": "python",
   "pygments_lexer": "ipython3",
   "version": "3.7.7"
  }
 },
 "nbformat": 4,
 "nbformat_minor": 4
}
