{
 "cells": [
  {
   "cell_type": "code",
   "execution_count": 1,
   "metadata": {
    "scrolled": true
   },
   "outputs": [],
   "source": [
    "from keys import aid\n",
    "import csv\n",
    "import requests\n",
    "import pandas as pd\n",
    "import numpy as np"
   ]
  },
  {
   "cell_type": "code",
   "execution_count": 33,
   "metadata": {},
   "outputs": [],
   "source": [
    "ad=''\n",
    "cit_state= 'Jersey City'\n",
    "test_params={\n",
    "    #'geoid':ad.replace(' ','+'),\n",
    "    'cityname':'jersey city'\n",
    "}"
   ]
  },
  {
   "cell_type": "code",
   "execution_count": 34,
   "metadata": {},
   "outputs": [
    {
     "data": {
      "text/plain": [
       "200"
      ]
     },
     "execution_count": 34,
     "metadata": {},
     "output_type": "execute_result"
    }
   ],
   "source": [
    "url='https://api.gateway.attomdata.com/propertyapi/v1.0.0/property/id'\n",
    "headers = {\n",
    "    'accept': \"application/json\",\n",
    "    'apikey': aid\n",
    "}\n",
    "response=requests.get(url,headers=headers,params=test_params)\n",
    "response.status_code"
   ]
  },
  {
   "cell_type": "code",
   "execution_count": 35,
   "metadata": {},
   "outputs": [
    {
     "data": {
      "text/plain": [
       "'{\"status\":{\"version\":\"1.0.0\",\"code\":0,\"msg\":\"SuccessWithResult\",\"total\":10000,\"page\":1,\"pagesize\":10},\"property\":[{\"identifier\":{\"obPropId\":19451326334017,\"fips\":\"34017\",\"apn\":\"0630501000000005\",\"attomId\":194513263},\"vintage\":{\"lastModified\":\"2019-6-10\",\"pubDate\":\"2019-6-22\"}},{\"identifier\":{\"obPropId\":32186858734017,\"fips\":\"34017\",\"apn\":\"0630501000000002\",\"attomId\":321868587},\"vintage\":{\"lastModified\":\"2019-9-10\",\"pubDate\":\"2019-9-29\"}},{\"identifier\":{\"obPropId\":18885670134017,\"fips\":\"34017\",\"apn\":\"0100397000000002\",\"attomId\":188856701},\"vintage\":{\"lastModified\":\"2020-6-10\",\"pubDate\":\"2020-6-13\"}},{\"identifier\":{\"obPropId\":4542795134017,\"fips\":\"34017\",\"apn\":\"0630402000000001\",\"attomId\":45427951},\"vintage\":{\"lastModified\":\"2019-6-10\",\"pubDate\":\"2019-6-22\"}},{\"identifier\":{\"obPropId\":4540436034017,\"fips\":\"34017\",\"apn\":\"0630404000000003\",\"attomId\":45404360},\"vintage\":{\"lastModified\":\"2019-6-10\",\"pubDate\":\"2019-6-22\"}},{\"identifier\":{\"obPropId\":4526156634017,\"fips\":\"34017\",\"apn\":\"0630401000000003  01\",\"attomId\":45261566},\"vintage\":{\"lastModified\":\"2019-6-10\",\"pubDate\":\"2019-6-22\"}},{\"identifier\":{\"obPropId\":15849695534017,\"fips\":\"34017\",\"apn\":\"0630501000000011\",\"attomId\":158496955},\"vintage\":{\"lastModified\":\"2019-6-10\",\"pubDate\":\"2019-6-22\"}},{\"identifier\":{\"obPropId\":3258077534017,\"fips\":\"34017\",\"apn\":\"0630307000000012\",\"attomId\":32580775},\"vintage\":{\"lastModified\":\"2019-6-10\",\"pubDate\":\"2019-6-22\"}},{\"identifier\":{\"obPropId\":15005101834017,\"fips\":\"34017\",\"apn\":\"0630307000000010\",\"attomId\":150051018},\"vintage\":{\"lastModified\":\"2019-6-10\",\"pubDate\":\"2019-6-22\"}},{\"identifier\":{\"obPropId\":4541964734017,\"fips\":\"34017\",\"apn\":\"0630401000000004\",\"attomId\":45419647},\"vintage\":{\"lastModified\":\"2019-6-10\",\"pubDate\":\"2019-6-22\"}}]}'"
      ]
     },
     "execution_count": 35,
     "metadata": {},
     "output_type": "execute_result"
    }
   ],
   "source": [
    "response.text"
   ]
  },
  {
   "cell_type": "code",
   "execution_count": 49,
   "metadata": {},
   "outputs": [],
   "source": [
    "def get_address_list(params):\n",
    "    url='https://api.gateway.attomdata.com/propertyapi/v1.0.0/property/id'\n",
    "    headers = {\n",
    "        'accept': \"application/json\",\n",
    "        'apikey': aid\n",
    "    }\n",
    "    response=requests.get(url,headers=headers,params=params)\n",
    "    return response.json()\n",
    "\n",
    "test_result=get_address_list(test_params)\n"
   ]
  },
  {
   "cell_type": "code",
   "execution_count": 55,
   "metadata": {},
   "outputs": [
    {
     "data": {
      "text/plain": [
       "[[317007966],\n",
       " [194513263],\n",
       " [321868587],\n",
       " [188856701],\n",
       " [45427951],\n",
       " [45404360],\n",
       " [45261566],\n",
       " [158496955],\n",
       " [150051018],\n",
       " [45419647]]"
      ]
     },
     "execution_count": 55,
     "metadata": {},
     "output_type": "execute_result"
    }
   ],
   "source": [
    "test_parse=[]\n",
    "for prop in test_result['property']:\n",
    "    test_parse.append([prop['identifier']['attomId']])\n",
    "test_parse"
   ]
  },
  {
   "cell_type": "code",
   "execution_count": 56,
   "metadata": {},
   "outputs": [],
   "source": [
    "def parse_data(data_results):\n",
    "    parsed_data=[]\n",
    "    for prop in data_results['property']:\n",
    "        parsed_data.append([prop['identifier']['attomId']])\n",
    "    return parsed_data\n",
    "test_parsed=parse_data(test_result)"
   ]
  },
  {
   "cell_type": "code",
   "execution_count": 54,
   "metadata": {},
   "outputs": [],
   "source": [
    "def save_data(file_name,data):\n",
    "    with open(file_name, \"a\", newline=\"\", encoding='utf-8') as a:\n",
    "        writer = csv.writer(a)\n",
    "        writer.writerows(data)"
   ]
  },
  {
   "cell_type": "code",
   "execution_count": 60,
   "metadata": {},
   "outputs": [],
   "source": [
    "id_list=[['attom_id']]\n",
    "id_list.extend(test_parsed)"
   ]
  },
  {
   "cell_type": "code",
   "execution_count": 62,
   "metadata": {},
   "outputs": [],
   "source": [
    "save_data('test_data.csv',id_list)"
   ]
  },
  {
   "cell_type": "code",
   "execution_count": 2,
   "metadata": {},
   "outputs": [
    {
     "data": {
      "text/html": [
       "<div>\n",
       "<style scoped>\n",
       "    .dataframe tbody tr th:only-of-type {\n",
       "        vertical-align: middle;\n",
       "    }\n",
       "\n",
       "    .dataframe tbody tr th {\n",
       "        vertical-align: top;\n",
       "    }\n",
       "\n",
       "    .dataframe thead th {\n",
       "        text-align: right;\n",
       "    }\n",
       "</style>\n",
       "<table border=\"1\" class=\"dataframe\">\n",
       "  <thead>\n",
       "    <tr style=\"text-align: right;\">\n",
       "      <th></th>\n",
       "      <th>attom_id</th>\n",
       "    </tr>\n",
       "  </thead>\n",
       "  <tbody>\n",
       "    <tr>\n",
       "      <th>0</th>\n",
       "      <td>317007966</td>\n",
       "    </tr>\n",
       "    <tr>\n",
       "      <th>1</th>\n",
       "      <td>194513263</td>\n",
       "    </tr>\n",
       "    <tr>\n",
       "      <th>2</th>\n",
       "      <td>321868587</td>\n",
       "    </tr>\n",
       "    <tr>\n",
       "      <th>3</th>\n",
       "      <td>188856701</td>\n",
       "    </tr>\n",
       "    <tr>\n",
       "      <th>4</th>\n",
       "      <td>45427951</td>\n",
       "    </tr>\n",
       "    <tr>\n",
       "      <th>5</th>\n",
       "      <td>45404360</td>\n",
       "    </tr>\n",
       "    <tr>\n",
       "      <th>6</th>\n",
       "      <td>45261566</td>\n",
       "    </tr>\n",
       "    <tr>\n",
       "      <th>7</th>\n",
       "      <td>158496955</td>\n",
       "    </tr>\n",
       "    <tr>\n",
       "      <th>8</th>\n",
       "      <td>150051018</td>\n",
       "    </tr>\n",
       "    <tr>\n",
       "      <th>9</th>\n",
       "      <td>45419647</td>\n",
       "    </tr>\n",
       "  </tbody>\n",
       "</table>\n",
       "</div>"
      ],
      "text/plain": [
       "    attom_id\n",
       "0  317007966\n",
       "1  194513263\n",
       "2  321868587\n",
       "3  188856701\n",
       "4   45427951\n",
       "5   45404360\n",
       "6   45261566\n",
       "7  158496955\n",
       "8  150051018\n",
       "9   45419647"
      ]
     },
     "execution_count": 2,
     "metadata": {},
     "output_type": "execute_result"
    }
   ],
   "source": [
    "test_df=pd.read_csv('test_data.csv',)\n",
    "test_df"
   ]
  },
  {
   "cell_type": "code",
   "execution_count": 3,
   "metadata": {},
   "outputs": [
    {
     "data": {
      "text/plain": [
       "317007966"
      ]
     },
     "execution_count": 3,
     "metadata": {},
     "output_type": "execute_result"
    }
   ],
   "source": [
    "test_df.attom_id.values[0]"
   ]
  },
  {
   "cell_type": "code",
   "execution_count": 6,
   "metadata": {},
   "outputs": [],
   "source": [
    "def get_property_details(pid):\n",
    "    url='https://api.gateway.attomdata.com/propertyapi/v1.0.0/property/detail'\n",
    "    headers = {\n",
    "        'accept': \"application/json\",\n",
    "        'apikey': aid\n",
    "    }\n",
    "    params={\n",
    "        'attomid': pid\n",
    "    }\n",
    "    response=requests.get(url,headers=headers,params=params)\n",
    "    return response.json()\n"
   ]
  },
  {
   "cell_type": "code",
   "execution_count": 9,
   "metadata": {},
   "outputs": [
    {
     "data": {
      "text/plain": [
       "{'status': {'version': '1.0.0',\n",
       "  'code': 0,\n",
       "  'msg': 'SuccessWithResult',\n",
       "  'total': 1,\n",
       "  'page': 1,\n",
       "  'pagesize': 10},\n",
       " 'property': [{'identifier': {'obPropId': 18885670134017,\n",
       "    'fips': '34017',\n",
       "    'apn': '0100397000000002',\n",
       "    'apnOrig': '100397000000002',\n",
       "    'attomId': 188856701},\n",
       "   'lot': {'depth': 0,\n",
       "    'frontage': 0,\n",
       "    'lotnum': '2',\n",
       "    'lotsize1': 0.441,\n",
       "    'lotsize2': 19210,\n",
       "    'pooltype': 'NONE'},\n",
       "   'area': {'blockNum': '397',\n",
       "    'countrysecsubd': 'Hudson County',\n",
       "    'countyuse1': '4B',\n",
       "    'muncode': 'HU',\n",
       "    'munname': 'HUDSON',\n",
       "    'subdtractnum': '0',\n",
       "    'taxcodearea': '1'},\n",
       "   'address': {'country': 'US',\n",
       "    'countrySubd': 'NJ',\n",
       "    'line1': '205 PORT JERSEY BLVD',\n",
       "    'line2': 'JERSEY CITY, NJ 07305',\n",
       "    'locality': 'Jersey City',\n",
       "    'matchCode': 'ExaStr',\n",
       "    'oneLine': '205 PORT JERSEY BLVD, JERSEY CITY, NJ 07305',\n",
       "    'postal1': '07305',\n",
       "    'postal2': '4515',\n",
       "    'postal3': 'C052'},\n",
       "   'location': {'accuracy': 'Street',\n",
       "    'elevation': 0.0,\n",
       "    'latitude': '40.677005',\n",
       "    'longitude': '-74.088568',\n",
       "    'distance': 0.0,\n",
       "    'geoid': 'CO34017, CS3436000, DB3407830, MT30004143, PL3436000, SB0000102821, SB0000102823, SB0000102824, SB0000102825, SB0000102826, SB0000102827, ZI07305'},\n",
       "   'summary': {'absenteeInd': 'ABSENTEE(MAIL AND SITUS NOT =)',\n",
       "    'propclass': 'Industrial',\n",
       "    'propsubtype': 'RESIDENTIAL',\n",
       "    'proptype': 'INDUSTRIAL (NEC)',\n",
       "    'yearbuilt': 0,\n",
       "    'propLandUse': 'INDUSTRIAL (NEC)',\n",
       "    'propIndicator': '50'},\n",
       "   'utilities': {},\n",
       "   'building': {'size': {'bldgsize': 0,\n",
       "     'grosssize': 0,\n",
       "     'grosssizeadjusted': 0,\n",
       "     'groundfloorsize': 0,\n",
       "     'livingsize': 0,\n",
       "     'sizeInd': 'BUILDING SQFT ',\n",
       "     'universalsize': 0},\n",
       "    'rooms': {'bathfixtures': 0,\n",
       "     'baths1qtr': 0,\n",
       "     'baths3qtr': 0,\n",
       "     'bathscalc': 0.0,\n",
       "     'bathsfull': 0,\n",
       "     'bathshalf': 0,\n",
       "     'bathstotal': 0.0,\n",
       "     'beds': 0,\n",
       "     'roomsTotal': 0},\n",
       "    'interior': {'bsmtsize': 0, 'fplccount': 0},\n",
       "    'construction': {'constructiontype': 'BRICK', 'wallType': 'BRICK'},\n",
       "    'parking': {'prkgSize': 0},\n",
       "    'summary': {'bldgsNum': 0,\n",
       "     'bldgType': 'TYPE UNKNOWN',\n",
       "     'imprType': 'RESIDENTIAL',\n",
       "     'levels': 1,\n",
       "     'mobileHomeInd': ' ',\n",
       "     'storyDesc': 'TYPE UNKNOWN',\n",
       "     'unitsCount': '0',\n",
       "     'yearbuilteffective': 0}},\n",
       "   'vintage': {'lastModified': '2020-6-10', 'pubDate': '2020-6-13'}}]}"
      ]
     },
     "execution_count": 9,
     "metadata": {},
     "output_type": "execute_result"
    }
   ],
   "source": [
    "get_property_details(test_df.attom_id.values[3])"
   ]
  },
  {
   "cell_type": "code",
   "execution_count": null,
   "metadata": {},
   "outputs": [],
   "source": []
  }
 ],
 "metadata": {
  "kernelspec": {
   "display_name": "Python 3",
   "language": "python",
   "name": "python3"
  },
  "language_info": {
   "codemirror_mode": {
    "name": "ipython",
    "version": 3
   },
   "file_extension": ".py",
   "mimetype": "text/x-python",
   "name": "python",
   "nbconvert_exporter": "python",
   "pygments_lexer": "ipython3",
   "version": "3.7.7"
  }
 },
 "nbformat": 4,
 "nbformat_minor": 4
}
